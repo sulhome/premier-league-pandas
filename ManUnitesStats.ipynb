{
 "cells": [
  {
   "cell_type": "code",
   "execution_count": 6,
   "metadata": {
    "collapsed": true,
    "ExecuteTime": {
     "start_time": "2023-04-28T07:38:39.777516Z",
     "end_time": "2023-04-28T07:38:39.876408Z"
    }
   },
   "outputs": [
    {
     "data": {
      "text/plain": "  Div        Date      HomeTeam        AwayTeam  FTHG  FTAG FTR  HTHG  HTAG  \\\n0  E0  10/08/2018    Man United       Leicester     2     1   H     1     0   \n1  E0  11/08/2018   Bournemouth         Cardiff     2     0   H     1     0   \n2  E0  11/08/2018        Fulham  Crystal Palace     0     2   A     0     1   \n3  E0  11/08/2018  Huddersfield         Chelsea     0     3   A     0     2   \n4  E0  11/08/2018     Newcastle       Tottenham     1     2   A     1     2   \n\n  HTR  ... BbAv<2.5  BbAH  BbAHh  BbMxAHH  BbAvAHH  BbMxAHA  BbAvAHA  PSCH  \\\n0   H  ...     1.79    17  -0.75     1.75     1.70     2.29     2.21  1.55   \n1   H  ...     1.83    20  -0.75     2.20     2.13     1.80     1.75  1.88   \n2   A  ...     1.87    22  -0.25     2.18     2.11     1.81     1.77  2.62   \n3   A  ...     1.84    23   1.00     1.84     1.80     2.13     2.06  7.24   \n4   A  ...     1.81    20   0.25     2.20     2.12     1.80     1.76  4.74   \n\n   PSCD  PSCA  \n0  4.07  7.69  \n1  3.61  4.70  \n2  3.38  2.90  \n3  3.95  1.58  \n4  3.53  1.89  \n\n[5 rows x 62 columns]",
      "text/html": "<div>\n<style scoped>\n    .dataframe tbody tr th:only-of-type {\n        vertical-align: middle;\n    }\n\n    .dataframe tbody tr th {\n        vertical-align: top;\n    }\n\n    .dataframe thead th {\n        text-align: right;\n    }\n</style>\n<table border=\"1\" class=\"dataframe\">\n  <thead>\n    <tr style=\"text-align: right;\">\n      <th></th>\n      <th>Div</th>\n      <th>Date</th>\n      <th>HomeTeam</th>\n      <th>AwayTeam</th>\n      <th>FTHG</th>\n      <th>FTAG</th>\n      <th>FTR</th>\n      <th>HTHG</th>\n      <th>HTAG</th>\n      <th>HTR</th>\n      <th>...</th>\n      <th>BbAv&lt;2.5</th>\n      <th>BbAH</th>\n      <th>BbAHh</th>\n      <th>BbMxAHH</th>\n      <th>BbAvAHH</th>\n      <th>BbMxAHA</th>\n      <th>BbAvAHA</th>\n      <th>PSCH</th>\n      <th>PSCD</th>\n      <th>PSCA</th>\n    </tr>\n  </thead>\n  <tbody>\n    <tr>\n      <th>0</th>\n      <td>E0</td>\n      <td>10/08/2018</td>\n      <td>Man United</td>\n      <td>Leicester</td>\n      <td>2</td>\n      <td>1</td>\n      <td>H</td>\n      <td>1</td>\n      <td>0</td>\n      <td>H</td>\n      <td>...</td>\n      <td>1.79</td>\n      <td>17</td>\n      <td>-0.75</td>\n      <td>1.75</td>\n      <td>1.70</td>\n      <td>2.29</td>\n      <td>2.21</td>\n      <td>1.55</td>\n      <td>4.07</td>\n      <td>7.69</td>\n    </tr>\n    <tr>\n      <th>1</th>\n      <td>E0</td>\n      <td>11/08/2018</td>\n      <td>Bournemouth</td>\n      <td>Cardiff</td>\n      <td>2</td>\n      <td>0</td>\n      <td>H</td>\n      <td>1</td>\n      <td>0</td>\n      <td>H</td>\n      <td>...</td>\n      <td>1.83</td>\n      <td>20</td>\n      <td>-0.75</td>\n      <td>2.20</td>\n      <td>2.13</td>\n      <td>1.80</td>\n      <td>1.75</td>\n      <td>1.88</td>\n      <td>3.61</td>\n      <td>4.70</td>\n    </tr>\n    <tr>\n      <th>2</th>\n      <td>E0</td>\n      <td>11/08/2018</td>\n      <td>Fulham</td>\n      <td>Crystal Palace</td>\n      <td>0</td>\n      <td>2</td>\n      <td>A</td>\n      <td>0</td>\n      <td>1</td>\n      <td>A</td>\n      <td>...</td>\n      <td>1.87</td>\n      <td>22</td>\n      <td>-0.25</td>\n      <td>2.18</td>\n      <td>2.11</td>\n      <td>1.81</td>\n      <td>1.77</td>\n      <td>2.62</td>\n      <td>3.38</td>\n      <td>2.90</td>\n    </tr>\n    <tr>\n      <th>3</th>\n      <td>E0</td>\n      <td>11/08/2018</td>\n      <td>Huddersfield</td>\n      <td>Chelsea</td>\n      <td>0</td>\n      <td>3</td>\n      <td>A</td>\n      <td>0</td>\n      <td>2</td>\n      <td>A</td>\n      <td>...</td>\n      <td>1.84</td>\n      <td>23</td>\n      <td>1.00</td>\n      <td>1.84</td>\n      <td>1.80</td>\n      <td>2.13</td>\n      <td>2.06</td>\n      <td>7.24</td>\n      <td>3.95</td>\n      <td>1.58</td>\n    </tr>\n    <tr>\n      <th>4</th>\n      <td>E0</td>\n      <td>11/08/2018</td>\n      <td>Newcastle</td>\n      <td>Tottenham</td>\n      <td>1</td>\n      <td>2</td>\n      <td>A</td>\n      <td>1</td>\n      <td>2</td>\n      <td>A</td>\n      <td>...</td>\n      <td>1.81</td>\n      <td>20</td>\n      <td>0.25</td>\n      <td>2.20</td>\n      <td>2.12</td>\n      <td>1.80</td>\n      <td>1.76</td>\n      <td>4.74</td>\n      <td>3.53</td>\n      <td>1.89</td>\n    </tr>\n  </tbody>\n</table>\n<p>5 rows × 62 columns</p>\n</div>"
     },
     "execution_count": 6,
     "metadata": {},
     "output_type": "execute_result"
    }
   ],
   "source": [
    "%matplotlib inline\n",
    "import pandas as pd\n",
    "# Schema: https://rstudio-pubs-static.s3.amazonaws.com/338127_f85723bf6d9b4637a4c5e1ff8f838432.html\n",
    "\n",
    "df = pd.read_csv(\"data/season-1819.csv\")\n",
    "df.head()"
   ]
  },
  {
   "cell_type": "code",
   "execution_count": 7,
   "outputs": [
    {
     "data": {
      "text/plain": "Index(['Div', 'Date', 'HomeTeam', 'AwayTeam', 'FTHG', 'FTAG', 'FTR', 'HTHG',\n       'HTAG', 'HTR', 'Referee', 'HS', 'AS', 'HST', 'AST', 'HF', 'AF', 'HC',\n       'AC', 'HY', 'AY', 'HR', 'AR', 'B365H', 'B365D', 'B365A', 'BWH', 'BWD',\n       'BWA', 'IWH', 'IWD', 'IWA', 'PSH', 'PSD', 'PSA', 'WHH', 'WHD', 'WHA',\n       'VCH', 'VCD', 'VCA', 'Bb1X2', 'BbMxH', 'BbAvH', 'BbMxD', 'BbAvD',\n       'BbMxA', 'BbAvA', 'BbOU', 'BbMx>2.5', 'BbAv>2.5', 'BbMx<2.5',\n       'BbAv<2.5', 'BbAH', 'BbAHh', 'BbMxAHH', 'BbAvAHH', 'BbMxAHA', 'BbAvAHA',\n       'PSCH', 'PSCD', 'PSCA'],\n      dtype='object')"
     },
     "execution_count": 7,
     "metadata": {},
     "output_type": "execute_result"
    }
   ],
   "source": [
    "df.shape\n",
    "df.columns"
   ],
   "metadata": {
    "collapsed": false,
    "ExecuteTime": {
     "start_time": "2023-04-28T07:38:39.820032Z",
     "end_time": "2023-04-28T07:38:39.886272Z"
    }
   }
  },
  {
   "cell_type": "code",
   "execution_count": 8,
   "outputs": [],
   "source": [
    "# Remove all betting and predictions columns\n",
    "noPredictionColumns = df.drop(df.iloc[:,23:], axis=1)"
   ],
   "metadata": {
    "collapsed": false,
    "ExecuteTime": {
     "start_time": "2023-04-28T07:38:39.820159Z",
     "end_time": "2023-04-28T07:38:39.886717Z"
    }
   }
  },
  {
   "cell_type": "code",
   "execution_count": 9,
   "outputs": [
    {
     "data": {
      "text/plain": "Index(['Div', 'Date', 'HomeTeam', 'AwayTeam', 'FTHG', 'FTAG', 'FTR', 'HTHG',\n       'HTAG', 'HTR', 'Referee', 'HS', 'AS', 'HST', 'AST', 'HF', 'AF', 'HC',\n       'AC', 'HY', 'AY', 'HR', 'AR'],\n      dtype='object')"
     },
     "execution_count": 9,
     "metadata": {},
     "output_type": "execute_result"
    }
   ],
   "source": [
    "noPredictionColumns.columns"
   ],
   "metadata": {
    "collapsed": false,
    "ExecuteTime": {
     "start_time": "2023-04-28T07:38:39.827042Z",
     "end_time": "2023-04-28T07:38:39.888901Z"
    }
   }
  },
  {
   "cell_type": "code",
   "execution_count": 10,
   "outputs": [],
   "source": [
    "unitedFixtures = noPredictionColumns[(noPredictionColumns.HomeTeam == \"Man United\") | (noPredictionColumns.AwayTeam == \"Man United\")]"
   ],
   "metadata": {
    "collapsed": false,
    "ExecuteTime": {
     "start_time": "2023-04-28T07:38:39.872355Z",
     "end_time": "2023-04-28T07:38:39.889722Z"
    }
   }
  },
  {
   "cell_type": "code",
   "execution_count": 11,
   "outputs": [
    {
     "data": {
      "text/plain": "(38, 23)"
     },
     "execution_count": 11,
     "metadata": {},
     "output_type": "execute_result"
    }
   ],
   "source": [
    "unitedFixtures.shape"
   ],
   "metadata": {
    "collapsed": false,
    "ExecuteTime": {
     "start_time": "2023-04-28T07:38:39.872476Z",
     "end_time": "2023-04-28T07:38:39.891184Z"
    }
   }
  },
  {
   "cell_type": "code",
   "execution_count": 12,
   "outputs": [],
   "source": [
    "homeFixtures = unitedFixtures[unitedFixtures.HomeTeam == \"Man United\"]\n",
    "awayFixtures = unitedFixtures[unitedFixtures.AwayTeam == \"Man United\"]"
   ],
   "metadata": {
    "collapsed": false,
    "ExecuteTime": {
     "start_time": "2023-04-28T07:38:39.872601Z",
     "end_time": "2023-04-28T07:38:39.910847Z"
    }
   }
  },
  {
   "cell_type": "code",
   "execution_count": 13,
   "outputs": [
    {
     "name": "stdout",
     "output_type": "stream",
     "text": [
      "Total goals:  65\n"
     ]
    }
   ],
   "source": [
    "homeGoals = sum(homeFixtures['FTHG'])\n",
    "awayGoals = sum(awayFixtures['FTAG'])\n",
    "print(\"Total goals: \", homeGoals + awayGoals)"
   ],
   "metadata": {
    "collapsed": false,
    "ExecuteTime": {
     "start_time": "2023-04-28T07:38:39.872695Z",
     "end_time": "2023-04-28T07:38:40.011706Z"
    }
   }
  },
  {
   "cell_type": "code",
   "execution_count": 14,
   "outputs": [
    {
     "data": {
      "text/plain": "Win     10\nDraw     6\nLose     3\nName: FTR, dtype: int64"
     },
     "execution_count": 14,
     "metadata": {},
     "output_type": "execute_result"
    }
   ],
   "source": [
    "homeResults = homeFixtures['FTR'].value_counts().rename({\"H\": \"Win\", \"D\": \"Draw\", \"A\": \"Lose\"})\n",
    "homeResults"
   ],
   "metadata": {
    "collapsed": false,
    "ExecuteTime": {
     "start_time": "2023-04-28T07:38:39.916231Z",
     "end_time": "2023-04-28T07:38:40.012435Z"
    }
   }
  },
  {
   "cell_type": "code",
   "execution_count": 15,
   "outputs": [],
   "source": [
    "awayResults = awayFixtures['FTR'].value_counts().rename({\"H\": \"Lose\", \"D\": \"Draw\", \"A\": \"Win\"})"
   ],
   "metadata": {
    "collapsed": false,
    "ExecuteTime": {
     "start_time": "2023-04-28T07:38:39.916497Z",
     "end_time": "2023-04-28T07:38:40.012785Z"
    }
   }
  },
  {
   "cell_type": "code",
   "execution_count": 16,
   "outputs": [
    {
     "data": {
      "text/plain": "      total\nwin      19\ndraw      9\nlose     10",
      "text/html": "<div>\n<style scoped>\n    .dataframe tbody tr th:only-of-type {\n        vertical-align: middle;\n    }\n\n    .dataframe tbody tr th {\n        vertical-align: top;\n    }\n\n    .dataframe thead th {\n        text-align: right;\n    }\n</style>\n<table border=\"1\" class=\"dataframe\">\n  <thead>\n    <tr style=\"text-align: right;\">\n      <th></th>\n      <th>total</th>\n    </tr>\n  </thead>\n  <tbody>\n    <tr>\n      <th>win</th>\n      <td>19</td>\n    </tr>\n    <tr>\n      <th>draw</th>\n      <td>9</td>\n    </tr>\n    <tr>\n      <th>lose</th>\n      <td>10</td>\n    </tr>\n  </tbody>\n</table>\n</div>"
     },
     "execution_count": 16,
     "metadata": {},
     "output_type": "execute_result"
    }
   ],
   "source": [
    "totalWins = homeResults['Win'] + awayResults['Win']\n",
    "totalDraws = homeResults['Draw'] + awayResults['Draw']\n",
    "totalLose = homeResults['Lose'] + awayResults['Lose']\n",
    "\n",
    "resultDf = pd.DataFrame([totalWins, totalDraws, totalLose], index=[\"win\", \"draw\", \"lose\"], columns=['total'])\n",
    "resultDf\n"
   ],
   "metadata": {
    "collapsed": false,
    "ExecuteTime": {
     "start_time": "2023-04-28T07:38:39.916726Z",
     "end_time": "2023-04-28T07:38:40.013765Z"
    }
   }
  },
  {
   "cell_type": "code",
   "execution_count": 17,
   "outputs": [
    {
     "data": {
      "text/plain": "array([<Axes: ylabel='total'>], dtype=object)"
     },
     "execution_count": 17,
     "metadata": {},
     "output_type": "execute_result"
    },
    {
     "data": {
      "text/plain": "<Figure size 640x480 with 1 Axes>",
      "image/png": "[encoded data removed]"
     },
     "metadata": {},
     "output_type": "display_data"
    }
   ],
   "source": [
    "resultDf.plot(kind=\"pie\", subplots=True)"
   ],
   "metadata": {
    "collapsed": false,
    "ExecuteTime": {
     "start_time": "2023-04-28T07:38:39.924347Z",
     "end_time": "2023-04-28T07:38:40.275241Z"
    }
   }
  },
  {
   "cell_type": "code",
   "execution_count": 25,
   "outputs": [
    {
     "name": "stdout",
     "output_type": "stream",
     "text": [
      "Total goals against:  54\n",
      "Average goals against per game:  1.4210526315789473\n"
     ]
    }
   ],
   "source": [
    "# Total goals against\n",
    "goalsAgainst = sum(homeFixtures['FTAG']) + sum(awayFixtures['FTHG'])\n",
    "print(\"Total goals against: \", goalsAgainst)\n",
    "# Average goals against per game\n",
    "averageGoalsAgainst = (homeFixtures['FTAG'].mean(axis=0)+awayFixtures['FTHG'].mean(axis=0))/2\n",
    "print(\"Average goals against per game: \", averageGoalsAgainst)"
   ],
   "metadata": {
    "collapsed": false,
    "ExecuteTime": {
     "start_time": "2023-04-28T08:02:33.909199Z",
     "end_time": "2023-04-28T08:02:33.926163Z"
    }
   }
  },
  {
   "cell_type": "code",
   "execution_count": 40,
   "outputs": [
    {
     "name": "stdout",
     "output_type": "stream",
     "text": [
      "Total goals scored:  65\n",
      "Average goals scored per Home game:  1.736842105263158\n",
      "Average goals scored per Away game:  1.6842105263157894\n",
      "Average goals scored per game:  1.7105263157894737\n"
     ]
    }
   ],
   "source": [
    "# Total goals for\n",
    "goalsScored = sum(homeFixtures['FTHG']) + sum(awayFixtures['FTAG'])\n",
    "print(\"Total goals scored: \", goalsScored)\n",
    "# Average goals scored per game\n",
    "averageGoalsScored = (homeFixtures['FTHG'].mean(axis=0)+awayFixtures['FTAG'].mean(axis=0))/2\n",
    "print(\"Average goals scored per Home game: \", homeFixtures['FTHG'].mean(axis=0))\n",
    "print(\"Average goals scored per Away game: \", awayFixtures['FTAG'].mean(axis=0))\n",
    "print(\"Average goals scored per game: \", averageGoalsScored)"
   ],
   "metadata": {
    "collapsed": false,
    "ExecuteTime": {
     "start_time": "2023-04-28T08:58:41.777794Z",
     "end_time": "2023-04-28T08:58:41.788818Z"
    }
   }
  },
  {
   "cell_type": "code",
   "execution_count": 39,
   "outputs": [
    {
     "name": "stdout",
     "output_type": "stream",
     "text": [
      "Most goals scored in an away fixture was 5 against Cardiff on 22/12/2018\n",
      "Most goals scored in a home fixture was 4 against Fulham on 08/12/2018\n"
     ]
    }
   ],
   "source": [
    "# Most goals scored in a game\n",
    "mostGoalsHomeIndex = homeFixtures['FTHG'].idxmax()\n",
    "mostGoalsAwayIndex = awayFixtures['FTAG'].idxmax()\n",
    "print(f\"Most goals scored in an away fixture was {awayFixtures.loc[mostGoalsAwayIndex]['FTAG']} against {awayFixtures.loc[mostGoalsAwayIndex]['HomeTeam']} on {awayFixtures.loc[mostGoalsAwayIndex]['Date']}\")\n",
    "print(f\"Most goals scored in a home fixture was {homeFixtures.loc[mostGoalsHomeIndex]['FTHG']} against {homeFixtures.loc[mostGoalsHomeIndex]['AwayTeam']} on {homeFixtures.loc[mostGoalsHomeIndex]['Date']}\")"
   ],
   "metadata": {
    "collapsed": false,
    "ExecuteTime": {
     "start_time": "2023-04-28T08:56:53.552897Z",
     "end_time": "2023-04-28T08:56:53.596482Z"
    }
   }
  },
  {
   "cell_type": "code",
   "execution_count": null,
   "outputs": [],
   "source": [],
   "metadata": {
    "collapsed": false
   }
  }
 ],
 "metadata": {
  "kernelspec": {
   "display_name": "Python 3",
   "language": "python",
   "name": "python3"
  },
  "language_info": {
   "codemirror_mode": {
    "name": "ipython",
    "version": 2
   },
   "file_extension": ".py",
   "mimetype": "text/x-python",
   "name": "python",
   "nbconvert_exporter": "python",
   "pygments_lexer": "ipython2",
   "version": "2.7.6"
  }
 },
 "nbformat": 4,
 "nbformat_minor": 0
}
